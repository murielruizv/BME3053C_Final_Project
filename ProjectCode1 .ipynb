{
  "cells": [
    {
      "cell_type": "code",
      "execution_count": 52,
      "metadata": {},
      "outputs": [
        {
          "name": "stdout",
          "output_type": "stream",
          "text": [
            "               name  MDVP:Fo(Hz)  MDVP:Fhi(Hz)  MDVP:Flo(Hz)  MDVP:Jitter(%)  \\\n",
            "0    phon_R01_S01_1      119.992       157.302        74.997         0.00784   \n",
            "1    phon_R01_S01_2      122.400       148.650       113.819         0.00968   \n",
            "2    phon_R01_S01_3      116.682       131.111       111.555         0.01050   \n",
            "3    phon_R01_S01_4      116.676       137.871       111.366         0.00997   \n",
            "4    phon_R01_S01_5      116.014       141.781       110.655         0.01284   \n",
            "..              ...          ...           ...           ...             ...   \n",
            "190  phon_R01_S50_2      174.188       230.978        94.261         0.00459   \n",
            "191  phon_R01_S50_3      209.516       253.017        89.488         0.00564   \n",
            "192  phon_R01_S50_4      174.688       240.005        74.287         0.01360   \n",
            "193  phon_R01_S50_5      198.764       396.961        74.904         0.00740   \n",
            "194  phon_R01_S50_6      214.289       260.277        77.973         0.00567   \n",
            "\n",
            "     MDVP:Jitter(Abs)  MDVP:RAP  MDVP:PPQ  Jitter:DDP  MDVP:Shimmer  ...  \\\n",
            "0             0.00007   0.00370   0.00554     0.01109       0.04374  ...   \n",
            "1             0.00008   0.00465   0.00696     0.01394       0.06134  ...   \n",
            "2             0.00009   0.00544   0.00781     0.01633       0.05233  ...   \n",
            "3             0.00009   0.00502   0.00698     0.01505       0.05492  ...   \n",
            "4             0.00011   0.00655   0.00908     0.01966       0.06425  ...   \n",
            "..                ...       ...       ...         ...           ...  ...   \n",
            "190           0.00003   0.00263   0.00259     0.00790       0.04087  ...   \n",
            "191           0.00003   0.00331   0.00292     0.00994       0.02751  ...   \n",
            "192           0.00008   0.00624   0.00564     0.01873       0.02308  ...   \n",
            "193           0.00004   0.00370   0.00390     0.01109       0.02296  ...   \n",
            "194           0.00003   0.00295   0.00317     0.00885       0.01884  ...   \n",
            "\n",
            "     Shimmer:DDA      NHR     HNR  status      RPDE       DFA   spread1  \\\n",
            "0        0.06545  0.02211  21.033       1  0.414783  0.815285 -4.813031   \n",
            "1        0.09403  0.01929  19.085       1  0.458359  0.819521 -4.075192   \n",
            "2        0.08270  0.01309  20.651       1  0.429895  0.825288 -4.443179   \n",
            "3        0.08771  0.01353  20.644       1  0.434969  0.819235 -4.117501   \n",
            "4        0.10470  0.01767  19.649       1  0.417356  0.823484 -3.747787   \n",
            "..           ...      ...     ...     ...       ...       ...       ...   \n",
            "190      0.07008  0.02764  19.517       0  0.448439  0.657899 -6.538586   \n",
            "191      0.04812  0.01810  19.147       0  0.431674  0.683244 -6.195325   \n",
            "192      0.03804  0.10715  17.883       0  0.407567  0.655683 -6.787197   \n",
            "193      0.03794  0.07223  19.020       0  0.451221  0.643956 -6.744577   \n",
            "194      0.03078  0.04398  21.209       0  0.462803  0.664357 -5.724056   \n",
            "\n",
            "      spread2        D2       PPE  \n",
            "0    0.266482  2.301442  0.284654  \n",
            "1    0.335590  2.486855  0.368674  \n",
            "2    0.311173  2.342259  0.332634  \n",
            "3    0.334147  2.405554  0.368975  \n",
            "4    0.234513  2.332180  0.410335  \n",
            "..        ...       ...       ...  \n",
            "190  0.121952  2.657476  0.133050  \n",
            "191  0.129303  2.784312  0.168895  \n",
            "192  0.158453  2.679772  0.131728  \n",
            "193  0.207454  2.138608  0.123306  \n",
            "194  0.190667  2.555477  0.148569  \n",
            "\n",
            "[195 rows x 24 columns]\n",
            "Index(['name', 'MDVP:Fo(Hz)', 'MDVP:Fhi(Hz)', 'MDVP:Flo(Hz)', 'MDVP:Jitter(%)',\n",
            "       'MDVP:Jitter(Abs)', 'MDVP:RAP', 'MDVP:PPQ', 'Jitter:DDP',\n",
            "       'MDVP:Shimmer', 'MDVP:Shimmer(dB)', 'Shimmer:APQ3', 'Shimmer:APQ5',\n",
            "       'MDVP:APQ', 'Shimmer:DDA', 'NHR', 'HNR', 'status', 'RPDE', 'DFA',\n",
            "       'spread1', 'spread2', 'D2', 'PPE'],\n",
            "      dtype='object')\n"
          ]
        }
      ],
      "source": [
        "import pandas as pd\n",
        "parkinsons_data = pd.read_csv('parkinsons.data')\n",
        "print(parkinsons_data)\n",
        "print(parkinsons_data.columns)"
      ]
    },
    {
      "cell_type": "code",
      "execution_count": 53,
      "metadata": {},
      "outputs": [
        {
          "name": "stdout",
          "output_type": "stream",
          "text": [
            "               name  MDVP:Fo(Hz)  MDVP:Fhi(Hz)  MDVP:Flo(Hz)  MDVP:Jitter(%)  \\\n",
            "0    phon_R01_S01_1      119.992       157.302        74.997         0.00784   \n",
            "1    phon_R01_S01_2      122.400       148.650       113.819         0.00968   \n",
            "2    phon_R01_S01_3      116.682       131.111       111.555         0.01050   \n",
            "3    phon_R01_S01_4      116.676       137.871       111.366         0.00997   \n",
            "4    phon_R01_S01_5      116.014       141.781       110.655         0.01284   \n",
            "..              ...          ...           ...           ...             ...   \n",
            "190  phon_R01_S50_2      174.188       230.978        94.261         0.00459   \n",
            "191  phon_R01_S50_3      209.516       253.017        89.488         0.00564   \n",
            "192  phon_R01_S50_4      174.688       240.005        74.287         0.01360   \n",
            "193  phon_R01_S50_5      198.764       396.961        74.904         0.00740   \n",
            "194  phon_R01_S50_6      214.289       260.277        77.973         0.00567   \n",
            "\n",
            "     MDVP:Jitter(Abs)  MDVP:RAP  MDVP:PPQ  Jitter:DDP  MDVP:Shimmer  ...  \\\n",
            "0             0.00007   0.00370   0.00554     0.01109       0.04374  ...   \n",
            "1             0.00008   0.00465   0.00696     0.01394       0.06134  ...   \n",
            "2             0.00009   0.00544   0.00781     0.01633       0.05233  ...   \n",
            "3             0.00009   0.00502   0.00698     0.01505       0.05492  ...   \n",
            "4             0.00011   0.00655   0.00908     0.01966       0.06425  ...   \n",
            "..                ...       ...       ...         ...           ...  ...   \n",
            "190           0.00003   0.00263   0.00259     0.00790       0.04087  ...   \n",
            "191           0.00003   0.00331   0.00292     0.00994       0.02751  ...   \n",
            "192           0.00008   0.00624   0.00564     0.01873       0.02308  ...   \n",
            "193           0.00004   0.00370   0.00390     0.01109       0.02296  ...   \n",
            "194           0.00003   0.00295   0.00317     0.00885       0.01884  ...   \n",
            "\n",
            "     Shimmer:DDA      NHR     HNR  status      RPDE       DFA   spread1  \\\n",
            "0        0.06545  0.02211  21.033       1  0.414783  0.815285 -4.813031   \n",
            "1        0.09403  0.01929  19.085       1  0.458359  0.819521 -4.075192   \n",
            "2        0.08270  0.01309  20.651       1  0.429895  0.825288 -4.443179   \n",
            "3        0.08771  0.01353  20.644       1  0.434969  0.819235 -4.117501   \n",
            "4        0.10470  0.01767  19.649       1  0.417356  0.823484 -3.747787   \n",
            "..           ...      ...     ...     ...       ...       ...       ...   \n",
            "190      0.07008  0.02764  19.517       0  0.448439  0.657899 -6.538586   \n",
            "191      0.04812  0.01810  19.147       0  0.431674  0.683244 -6.195325   \n",
            "192      0.03804  0.10715  17.883       0  0.407567  0.655683 -6.787197   \n",
            "193      0.03794  0.07223  19.020       0  0.451221  0.643956 -6.744577   \n",
            "194      0.03078  0.04398  21.209       0  0.462803  0.664357 -5.724056   \n",
            "\n",
            "      spread2        D2       PPE  \n",
            "0    0.266482  2.301442  0.284654  \n",
            "1    0.335590  2.486855  0.368674  \n",
            "2    0.311173  2.342259  0.332634  \n",
            "3    0.334147  2.405554  0.368975  \n",
            "4    0.234513  2.332180  0.410335  \n",
            "..        ...       ...       ...  \n",
            "190  0.121952  2.657476  0.133050  \n",
            "191  0.129303  2.784312  0.168895  \n",
            "192  0.158453  2.679772  0.131728  \n",
            "193  0.207454  2.138608  0.123306  \n",
            "194  0.190667  2.555477  0.148569  \n",
            "\n",
            "[195 rows x 24 columns]\n",
            "Index(['name', 'MDVP:Fo(Hz)', 'MDVP:Fhi(Hz)', 'MDVP:Flo(Hz)', 'MDVP:Jitter(%)',\n",
            "       'MDVP:Jitter(Abs)', 'MDVP:RAP', 'MDVP:PPQ', 'Jitter:DDP',\n",
            "       'MDVP:Shimmer', 'MDVP:Shimmer(dB)', 'Shimmer:APQ3', 'Shimmer:APQ5',\n",
            "       'MDVP:APQ', 'Shimmer:DDA', 'NHR', 'HNR', 'status', 'RPDE', 'DFA',\n",
            "       'spread1', 'spread2', 'D2', 'PPE'],\n",
            "      dtype='object')\n",
            "status\n",
            "1    147\n",
            "0     48\n",
            "Name: count, dtype: int64\n"
          ]
        }
      ],
      "source": [
        " import pandas as pd\n",
        "parkinsons_data = pd.read_csv('parkinsons.data')\n",
        "print(parkinsons_data)\n",
        "print(parkinsons_data.columns)\n",
        "print(parkinsons_data['status'].value_counts())\n",
        "# This will show the unique values in the 'status' column and their counts."
      ]
    },
    {
      "cell_type": "code",
      "execution_count": 54,
      "metadata": {},
      "outputs": [
        {
          "name": "stdout",
          "output_type": "stream",
          "text": [
            "status\n",
            "1    147\n",
            "0     48\n",
            "Name: count, dtype: int64\n"
          ]
        }
      ],
      "source": [
        "print(parkinsons_data['status'].value_counts())\n"
      ]
    },
    {
      "cell_type": "code",
      "execution_count": 55,
      "metadata": {},
      "outputs": [],
      "source": [
        "from sklearn.model_selection import train_test_split\n",
        "from sklearn.ensemble import RandomForestClassifier\n",
        "from sklearn.metrics import accuracy_score\n",
        "\n",
        "features = ['MDVP:Fo(Hz)', 'MDVP:Fhi(Hz)', 'MDVP:Flo(Hz)', 'MDVP:Jitter(%)',\n",
        "       'MDVP:Jitter(Abs)', 'MDVP:RAP', 'MDVP:PPQ', 'Jitter:DDP',\n",
        "       'MDVP:Shimmer', 'MDVP:Shimmer(dB)', 'Shimmer:APQ3', 'Shimmer:APQ5',\n",
        "       'MDVP:APQ', 'Shimmer:DDA', 'NHR', 'HNR', 'RPDE', 'DFA',\n",
        "       'spread1', 'spread2', 'D2', 'PPE']\n",
        "target = 'status'\n",
        "\n",
        "X = parkinsons_data[features]\n",
        "y = parkinsons_data[target]\n",
        "\n",
        "X_train, X_test, y_train, y_test = train_test_split(X, y, test_size=0.2, random_state=42)\n",
        "\n",
        "model = RandomForestClassifier()\n",
        "model.fit(X_train, y_train)\n",
        "\n",
        "y_pred = model.predict(X_test)\n"
      ]
    },
    {
      "cell_type": "code",
      "execution_count": 57,
      "metadata": {},
      "outputs": [
        {
          "name": "stdout",
          "output_type": "stream",
          "text": [
            "[[ 5  2]\n",
            " [ 0 32]]\n",
            "              precision    recall  f1-score   support\n",
            "\n",
            "           0       1.00      0.71      0.83         7\n",
            "           1       0.94      1.00      0.97        32\n",
            "\n",
            "    accuracy                           0.95        39\n",
            "   macro avg       0.97      0.86      0.90        39\n",
            "weighted avg       0.95      0.95      0.95        39\n",
            "\n",
            "Precision:  94.11764705882352 %\n",
            "Recall:  100.0 %\n"
          ]
        }
      ],
      "source": [
        "from sklearn.metrics import confusion_matrix, classification_report\n",
        "\n",
        "y_pred = model.predict(X_test)\n",
        "\n",
        "conf_matrix = confusion_matrix(y_test, y_pred)\n",
        "print(conf_matrix)\n",
        "\n",
        "class_report = classification_report(y_test, y_pred)\n",
        "print(class_report)\n",
        "\n",
        "precision = conf_matrix[1,1] / (conf_matrix[0,1] + conf_matrix[1,1])\n",
        "recall = conf_matrix[1,1] / (conf_matrix[1,0] + conf_matrix[1,1])\n",
        "\n",
        "print(\"Precision: \", precision * 100, \"%\")\n",
        "print(\"Recall: \", recall * 100, \"%\")\n"
      ]
    }
  ],
  "metadata": {
    "colab": {
      "provenance": []
    },
    "kernelspec": {
      "display_name": "Python 3",
      "name": "python3"
    },
    "language_info": {
      "codemirror_mode": {
        "name": "ipython",
        "version": 3
      },
      "file_extension": ".py",
      "mimetype": "text/x-python",
      "name": "python",
      "nbconvert_exporter": "python",
      "pygments_lexer": "ipython3",
      "version": "3.12.3"
    }
  },
  "nbformat": 4,
  "nbformat_minor": 0
}
