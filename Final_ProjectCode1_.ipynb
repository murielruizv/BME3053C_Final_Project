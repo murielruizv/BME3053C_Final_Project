{
  "cells": [
    {
      "cell_type": "code",
      "source": [
        "import pandas as pd\n",
        "\n",
        "from sklearn.model_selection import train_test_split\n",
        "from sklearn.ensemble import RandomForestClassifier\n",
        "from sklearn.metrics import accuracy_score\n",
        "\n",
        "from sklearn.metrics import confusion_matrix, classification_report\n",
        "\n",
        "import matplotlib.pyplot as plt\n",
        "import seaborn as sns\n",
        "\n",
        "import numpy as np"
      ],
      "metadata": {
        "id": "_e_p-TF78T4v"
      },
      "execution_count": null,
      "outputs": []
    },
    {
      "cell_type": "code",
      "execution_count": null,
      "metadata": {
        "colab": {
          "base_uri": "https://localhost:8080/",
          "height": 1000
        },
        "id": "p1XsQqCd0gix",
        "outputId": "03103fbe-5f15-40cd-db4b-c68339519a9b"
      },
      "outputs": [
        {
          "output_type": "display_data",
          "data": {
            "text/plain": [
              "<IPython.core.display.HTML object>"
            ],
            "text/html": [
              "\n",
              "     <input type=\"file\" id=\"files-578cd421-7173-4afe-95b0-d122ff8cbc96\" name=\"files[]\" multiple disabled\n",
              "        style=\"border:none\" />\n",
              "     <output id=\"result-578cd421-7173-4afe-95b0-d122ff8cbc96\">\n",
              "      Upload widget is only available when the cell has been executed in the\n",
              "      current browser session. Please rerun this cell to enable.\n",
              "      </output>\n",
              "      <script>// Copyright 2017 Google LLC\n",
              "//\n",
              "// Licensed under the Apache License, Version 2.0 (the \"License\");\n",
              "// you may not use this file except in compliance with the License.\n",
              "// You may obtain a copy of the License at\n",
              "//\n",
              "//      http://www.apache.org/licenses/LICENSE-2.0\n",
              "//\n",
              "// Unless required by applicable law or agreed to in writing, software\n",
              "// distributed under the License is distributed on an \"AS IS\" BASIS,\n",
              "// WITHOUT WARRANTIES OR CONDITIONS OF ANY KIND, either express or implied.\n",
              "// See the License for the specific language governing permissions and\n",
              "// limitations under the License.\n",
              "\n",
              "/**\n",
              " * @fileoverview Helpers for google.colab Python module.\n",
              " */\n",
              "(function(scope) {\n",
              "function span(text, styleAttributes = {}) {\n",
              "  const element = document.createElement('span');\n",
              "  element.textContent = text;\n",
              "  for (const key of Object.keys(styleAttributes)) {\n",
              "    element.style[key] = styleAttributes[key];\n",
              "  }\n",
              "  return element;\n",
              "}\n",
              "\n",
              "// Max number of bytes which will be uploaded at a time.\n",
              "const MAX_PAYLOAD_SIZE = 100 * 1024;\n",
              "\n",
              "function _uploadFiles(inputId, outputId) {\n",
              "  const steps = uploadFilesStep(inputId, outputId);\n",
              "  const outputElement = document.getElementById(outputId);\n",
              "  // Cache steps on the outputElement to make it available for the next call\n",
              "  // to uploadFilesContinue from Python.\n",
              "  outputElement.steps = steps;\n",
              "\n",
              "  return _uploadFilesContinue(outputId);\n",
              "}\n",
              "\n",
              "// This is roughly an async generator (not supported in the browser yet),\n",
              "// where there are multiple asynchronous steps and the Python side is going\n",
              "// to poll for completion of each step.\n",
              "// This uses a Promise to block the python side on completion of each step,\n",
              "// then passes the result of the previous step as the input to the next step.\n",
              "function _uploadFilesContinue(outputId) {\n",
              "  const outputElement = document.getElementById(outputId);\n",
              "  const steps = outputElement.steps;\n",
              "\n",
              "  const next = steps.next(outputElement.lastPromiseValue);\n",
              "  return Promise.resolve(next.value.promise).then((value) => {\n",
              "    // Cache the last promise value to make it available to the next\n",
              "    // step of the generator.\n",
              "    outputElement.lastPromiseValue = value;\n",
              "    return next.value.response;\n",
              "  });\n",
              "}\n",
              "\n",
              "/**\n",
              " * Generator function which is called between each async step of the upload\n",
              " * process.\n",
              " * @param {string} inputId Element ID of the input file picker element.\n",
              " * @param {string} outputId Element ID of the output display.\n",
              " * @return {!Iterable<!Object>} Iterable of next steps.\n",
              " */\n",
              "function* uploadFilesStep(inputId, outputId) {\n",
              "  const inputElement = document.getElementById(inputId);\n",
              "  inputElement.disabled = false;\n",
              "\n",
              "  const outputElement = document.getElementById(outputId);\n",
              "  outputElement.innerHTML = '';\n",
              "\n",
              "  const pickedPromise = new Promise((resolve) => {\n",
              "    inputElement.addEventListener('change', (e) => {\n",
              "      resolve(e.target.files);\n",
              "    });\n",
              "  });\n",
              "\n",
              "  const cancel = document.createElement('button');\n",
              "  inputElement.parentElement.appendChild(cancel);\n",
              "  cancel.textContent = 'Cancel upload';\n",
              "  const cancelPromise = new Promise((resolve) => {\n",
              "    cancel.onclick = () => {\n",
              "      resolve(null);\n",
              "    };\n",
              "  });\n",
              "\n",
              "  // Wait for the user to pick the files.\n",
              "  const files = yield {\n",
              "    promise: Promise.race([pickedPromise, cancelPromise]),\n",
              "    response: {\n",
              "      action: 'starting',\n",
              "    }\n",
              "  };\n",
              "\n",
              "  cancel.remove();\n",
              "\n",
              "  // Disable the input element since further picks are not allowed.\n",
              "  inputElement.disabled = true;\n",
              "\n",
              "  if (!files) {\n",
              "    return {\n",
              "      response: {\n",
              "        action: 'complete',\n",
              "      }\n",
              "    };\n",
              "  }\n",
              "\n",
              "  for (const file of files) {\n",
              "    const li = document.createElement('li');\n",
              "    li.append(span(file.name, {fontWeight: 'bold'}));\n",
              "    li.append(span(\n",
              "        `(${file.type || 'n/a'}) - ${file.size} bytes, ` +\n",
              "        `last modified: ${\n",
              "            file.lastModifiedDate ? file.lastModifiedDate.toLocaleDateString() :\n",
              "                                    'n/a'} - `));\n",
              "    const percent = span('0% done');\n",
              "    li.appendChild(percent);\n",
              "\n",
              "    outputElement.appendChild(li);\n",
              "\n",
              "    const fileDataPromise = new Promise((resolve) => {\n",
              "      const reader = new FileReader();\n",
              "      reader.onload = (e) => {\n",
              "        resolve(e.target.result);\n",
              "      };\n",
              "      reader.readAsArrayBuffer(file);\n",
              "    });\n",
              "    // Wait for the data to be ready.\n",
              "    let fileData = yield {\n",
              "      promise: fileDataPromise,\n",
              "      response: {\n",
              "        action: 'continue',\n",
              "      }\n",
              "    };\n",
              "\n",
              "    // Use a chunked sending to avoid message size limits. See b/62115660.\n",
              "    let position = 0;\n",
              "    do {\n",
              "      const length = Math.min(fileData.byteLength - position, MAX_PAYLOAD_SIZE);\n",
              "      const chunk = new Uint8Array(fileData, position, length);\n",
              "      position += length;\n",
              "\n",
              "      const base64 = btoa(String.fromCharCode.apply(null, chunk));\n",
              "      yield {\n",
              "        response: {\n",
              "          action: 'append',\n",
              "          file: file.name,\n",
              "          data: base64,\n",
              "        },\n",
              "      };\n",
              "\n",
              "      let percentDone = fileData.byteLength === 0 ?\n",
              "          100 :\n",
              "          Math.round((position / fileData.byteLength) * 100);\n",
              "      percent.textContent = `${percentDone}% done`;\n",
              "\n",
              "    } while (position < fileData.byteLength);\n",
              "  }\n",
              "\n",
              "  // All done.\n",
              "  yield {\n",
              "    response: {\n",
              "      action: 'complete',\n",
              "    }\n",
              "  };\n",
              "}\n",
              "\n",
              "scope.google = scope.google || {};\n",
              "scope.google.colab = scope.google.colab || {};\n",
              "scope.google.colab._files = {\n",
              "  _uploadFiles,\n",
              "  _uploadFilesContinue,\n",
              "};\n",
              "})(self);\n",
              "</script> "
            ]
          },
          "metadata": {}
        },
        {
          "output_type": "stream",
          "name": "stdout",
          "text": [
            "Saving parkinsons.data to parkinsons.data\n",
            "               name  MDVP:Fo(Hz)  MDVP:Fhi(Hz)  MDVP:Flo(Hz)  MDVP:Jitter(%)  \\\n",
            "0    phon_R01_S01_1      119.992       157.302        74.997         0.00784   \n",
            "1    phon_R01_S01_2      122.400       148.650       113.819         0.00968   \n",
            "2    phon_R01_S01_3      116.682       131.111       111.555         0.01050   \n",
            "3    phon_R01_S01_4      116.676       137.871       111.366         0.00997   \n",
            "4    phon_R01_S01_5      116.014       141.781       110.655         0.01284   \n",
            "..              ...          ...           ...           ...             ...   \n",
            "190  phon_R01_S50_2      174.188       230.978        94.261         0.00459   \n",
            "191  phon_R01_S50_3      209.516       253.017        89.488         0.00564   \n",
            "192  phon_R01_S50_4      174.688       240.005        74.287         0.01360   \n",
            "193  phon_R01_S50_5      198.764       396.961        74.904         0.00740   \n",
            "194  phon_R01_S50_6      214.289       260.277        77.973         0.00567   \n",
            "\n",
            "     MDVP:Jitter(Abs)  MDVP:RAP  MDVP:PPQ  Jitter:DDP  MDVP:Shimmer  ...  \\\n",
            "0             0.00007   0.00370   0.00554     0.01109       0.04374  ...   \n",
            "1             0.00008   0.00465   0.00696     0.01394       0.06134  ...   \n",
            "2             0.00009   0.00544   0.00781     0.01633       0.05233  ...   \n",
            "3             0.00009   0.00502   0.00698     0.01505       0.05492  ...   \n",
            "4             0.00011   0.00655   0.00908     0.01966       0.06425  ...   \n",
            "..                ...       ...       ...         ...           ...  ...   \n",
            "190           0.00003   0.00263   0.00259     0.00790       0.04087  ...   \n",
            "191           0.00003   0.00331   0.00292     0.00994       0.02751  ...   \n",
            "192           0.00008   0.00624   0.00564     0.01873       0.02308  ...   \n",
            "193           0.00004   0.00370   0.00390     0.01109       0.02296  ...   \n",
            "194           0.00003   0.00295   0.00317     0.00885       0.01884  ...   \n",
            "\n",
            "     Shimmer:DDA      NHR     HNR  status      RPDE       DFA   spread1  \\\n",
            "0        0.06545  0.02211  21.033       1  0.414783  0.815285 -4.813031   \n",
            "1        0.09403  0.01929  19.085       1  0.458359  0.819521 -4.075192   \n",
            "2        0.08270  0.01309  20.651       1  0.429895  0.825288 -4.443179   \n",
            "3        0.08771  0.01353  20.644       1  0.434969  0.819235 -4.117501   \n",
            "4        0.10470  0.01767  19.649       1  0.417356  0.823484 -3.747787   \n",
            "..           ...      ...     ...     ...       ...       ...       ...   \n",
            "190      0.07008  0.02764  19.517       0  0.448439  0.657899 -6.538586   \n",
            "191      0.04812  0.01810  19.147       0  0.431674  0.683244 -6.195325   \n",
            "192      0.03804  0.10715  17.883       0  0.407567  0.655683 -6.787197   \n",
            "193      0.03794  0.07223  19.020       0  0.451221  0.643956 -6.744577   \n",
            "194      0.03078  0.04398  21.209       0  0.462803  0.664357 -5.724056   \n",
            "\n",
            "      spread2        D2       PPE  \n",
            "0    0.266482  2.301442  0.284654  \n",
            "1    0.335590  2.486855  0.368674  \n",
            "2    0.311173  2.342259  0.332634  \n",
            "3    0.334147  2.405554  0.368975  \n",
            "4    0.234513  2.332180  0.410335  \n",
            "..        ...       ...       ...  \n",
            "190  0.121952  2.657476  0.133050  \n",
            "191  0.129303  2.784312  0.168895  \n",
            "192  0.158453  2.679772  0.131728  \n",
            "193  0.207454  2.138608  0.123306  \n",
            "194  0.190667  2.555477  0.148569  \n",
            "\n",
            "[195 rows x 24 columns]\n",
            "Index(['name', 'MDVP:Fo(Hz)', 'MDVP:Fhi(Hz)', 'MDVP:Flo(Hz)', 'MDVP:Jitter(%)',\n",
            "       'MDVP:Jitter(Abs)', 'MDVP:RAP', 'MDVP:PPQ', 'Jitter:DDP',\n",
            "       'MDVP:Shimmer', 'MDVP:Shimmer(dB)', 'Shimmer:APQ3', 'Shimmer:APQ5',\n",
            "       'MDVP:APQ', 'Shimmer:DDA', 'NHR', 'HNR', 'status', 'RPDE', 'DFA',\n",
            "       'spread1', 'spread2', 'D2', 'PPE'],\n",
            "      dtype='object')\n"
          ]
        }
      ],
      "source": [
        "from google.colab import files\n",
        "uploaded = files.upload()\n",
        "import io\n",
        "import pandas as pd\n",
        "parkinsons_data = pd.read_csv(io.BytesIO(uploaded['parkinsons.data']))\n",
        "print(parkinsons_data)\n",
        "print(parkinsons_data.columns)"
      ]
    },
    {
      "cell_type": "code",
      "execution_count": null,
      "metadata": {
        "id": "RbDH4PsX0giy",
        "outputId": "f2e93c7e-c1f3-4aa2-e3b1-606243001ebb",
        "colab": {
          "base_uri": "https://localhost:8080/"
        }
      },
      "outputs": [
        {
          "output_type": "stream",
          "name": "stdout",
          "text": [
            "               name  MDVP:Fo(Hz)  MDVP:Fhi(Hz)  MDVP:Flo(Hz)  MDVP:Jitter(%)  \\\n",
            "0    phon_R01_S01_1      119.992       157.302        74.997         0.00784   \n",
            "1    phon_R01_S01_2      122.400       148.650       113.819         0.00968   \n",
            "2    phon_R01_S01_3      116.682       131.111       111.555         0.01050   \n",
            "3    phon_R01_S01_4      116.676       137.871       111.366         0.00997   \n",
            "4    phon_R01_S01_5      116.014       141.781       110.655         0.01284   \n",
            "..              ...          ...           ...           ...             ...   \n",
            "190  phon_R01_S50_2      174.188       230.978        94.261         0.00459   \n",
            "191  phon_R01_S50_3      209.516       253.017        89.488         0.00564   \n",
            "192  phon_R01_S50_4      174.688       240.005        74.287         0.01360   \n",
            "193  phon_R01_S50_5      198.764       396.961        74.904         0.00740   \n",
            "194  phon_R01_S50_6      214.289       260.277        77.973         0.00567   \n",
            "\n",
            "     MDVP:Jitter(Abs)  MDVP:RAP  MDVP:PPQ  Jitter:DDP  MDVP:Shimmer  ...  \\\n",
            "0             0.00007   0.00370   0.00554     0.01109       0.04374  ...   \n",
            "1             0.00008   0.00465   0.00696     0.01394       0.06134  ...   \n",
            "2             0.00009   0.00544   0.00781     0.01633       0.05233  ...   \n",
            "3             0.00009   0.00502   0.00698     0.01505       0.05492  ...   \n",
            "4             0.00011   0.00655   0.00908     0.01966       0.06425  ...   \n",
            "..                ...       ...       ...         ...           ...  ...   \n",
            "190           0.00003   0.00263   0.00259     0.00790       0.04087  ...   \n",
            "191           0.00003   0.00331   0.00292     0.00994       0.02751  ...   \n",
            "192           0.00008   0.00624   0.00564     0.01873       0.02308  ...   \n",
            "193           0.00004   0.00370   0.00390     0.01109       0.02296  ...   \n",
            "194           0.00003   0.00295   0.00317     0.00885       0.01884  ...   \n",
            "\n",
            "     Shimmer:DDA      NHR     HNR  status      RPDE       DFA   spread1  \\\n",
            "0        0.06545  0.02211  21.033       1  0.414783  0.815285 -4.813031   \n",
            "1        0.09403  0.01929  19.085       1  0.458359  0.819521 -4.075192   \n",
            "2        0.08270  0.01309  20.651       1  0.429895  0.825288 -4.443179   \n",
            "3        0.08771  0.01353  20.644       1  0.434969  0.819235 -4.117501   \n",
            "4        0.10470  0.01767  19.649       1  0.417356  0.823484 -3.747787   \n",
            "..           ...      ...     ...     ...       ...       ...       ...   \n",
            "190      0.07008  0.02764  19.517       0  0.448439  0.657899 -6.538586   \n",
            "191      0.04812  0.01810  19.147       0  0.431674  0.683244 -6.195325   \n",
            "192      0.03804  0.10715  17.883       0  0.407567  0.655683 -6.787197   \n",
            "193      0.03794  0.07223  19.020       0  0.451221  0.643956 -6.744577   \n",
            "194      0.03078  0.04398  21.209       0  0.462803  0.664357 -5.724056   \n",
            "\n",
            "      spread2        D2       PPE  \n",
            "0    0.266482  2.301442  0.284654  \n",
            "1    0.335590  2.486855  0.368674  \n",
            "2    0.311173  2.342259  0.332634  \n",
            "3    0.334147  2.405554  0.368975  \n",
            "4    0.234513  2.332180  0.410335  \n",
            "..        ...       ...       ...  \n",
            "190  0.121952  2.657476  0.133050  \n",
            "191  0.129303  2.784312  0.168895  \n",
            "192  0.158453  2.679772  0.131728  \n",
            "193  0.207454  2.138608  0.123306  \n",
            "194  0.190667  2.555477  0.148569  \n",
            "\n",
            "[195 rows x 24 columns]\n",
            "Index(['name', 'MDVP:Fo(Hz)', 'MDVP:Fhi(Hz)', 'MDVP:Flo(Hz)', 'MDVP:Jitter(%)',\n",
            "       'MDVP:Jitter(Abs)', 'MDVP:RAP', 'MDVP:PPQ', 'Jitter:DDP',\n",
            "       'MDVP:Shimmer', 'MDVP:Shimmer(dB)', 'Shimmer:APQ3', 'Shimmer:APQ5',\n",
            "       'MDVP:APQ', 'Shimmer:DDA', 'NHR', 'HNR', 'status', 'RPDE', 'DFA',\n",
            "       'spread1', 'spread2', 'D2', 'PPE'],\n",
            "      dtype='object')\n",
            "status\n",
            "1    147\n",
            "0     48\n",
            "Name: count, dtype: int64\n"
          ]
        }
      ],
      "source": [
        "parkinsons_data = pd.read_csv('parkinsons.data')\n",
        "print(parkinsons_data)\n",
        "print(parkinsons_data.columns)\n",
        "print(parkinsons_data['status'].value_counts())\n",
        "# This will show the unique values in the 'status' column and their counts."
      ]
    },
    {
      "cell_type": "code",
      "execution_count": null,
      "metadata": {
        "colab": {
          "base_uri": "https://localhost:8080/"
        },
        "id": "Py1hfz1z0giy",
        "outputId": "44e06ed1-f916-425c-80e2-4c95c1152cc9"
      },
      "outputs": [
        {
          "output_type": "stream",
          "name": "stdout",
          "text": [
            "status\n",
            "1    147\n",
            "0     48\n",
            "Name: count, dtype: int64\n"
          ]
        }
      ],
      "source": [
        "print(parkinsons_data['status'].value_counts())"
      ]
    },
    {
      "cell_type": "code",
      "execution_count": null,
      "metadata": {
        "id": "nJynORUF0giz"
      },
      "outputs": [],
      "source": [
        "features = ['MDVP:Fo(Hz)', 'MDVP:Fhi(Hz)', 'MDVP:Flo(Hz)', 'MDVP:Jitter(%)',\n",
        "       'MDVP:Jitter(Abs)', 'MDVP:RAP', 'MDVP:PPQ', 'Jitter:DDP',\n",
        "       'MDVP:Shimmer', 'MDVP:Shimmer(dB)', 'Shimmer:APQ3', 'Shimmer:APQ5',\n",
        "       'MDVP:APQ', 'Shimmer:DDA', 'NHR', 'HNR', 'RPDE', 'DFA',\n",
        "       'spread1', 'spread2', 'D2', 'PPE']\n",
        "target = 'status'\n",
        "\n",
        "X = parkinsons_data[features]\n",
        "y = parkinsons_data[target]\n",
        "\n",
        "X_train, X_test, y_train, y_test = train_test_split(X, y, test_size=0.2, random_state=42)\n",
        "\n",
        "model = RandomForestClassifier()\n",
        "model.fit(X_train, y_train)\n",
        "\n",
        "y_pred = model.predict(X_test)\n"
      ]
    },
    {
      "cell_type": "code",
      "execution_count": null,
      "metadata": {
        "colab": {
          "base_uri": "https://localhost:8080/"
        },
        "id": "ohrzaq670giz",
        "outputId": "f0cdb4fa-7745-414d-ecd7-45e91a8dcd4d"
      },
      "outputs": [
        {
          "output_type": "stream",
          "name": "stdout",
          "text": [
            "[[ 5  2]\n",
            " [ 0 32]]\n",
            "              precision    recall  f1-score   support\n",
            "\n",
            "           0       1.00      0.71      0.83         7\n",
            "           1       0.94      1.00      0.97        32\n",
            "\n",
            "    accuracy                           0.95        39\n",
            "   macro avg       0.97      0.86      0.90        39\n",
            "weighted avg       0.95      0.95      0.95        39\n",
            "\n"
          ]
        }
      ],
      "source": [
        "y_pred = model.predict(X_test)\n",
        "\n",
        "conf_matrix = confusion_matrix(y_test, y_pred)\n",
        "print(conf_matrix)\n",
        "\n",
        "class_report = classification_report(y_test, y_pred)\n",
        "print(class_report)\n",
        "\n",
        "precision = conf_matrix[1,1] / (conf_matrix[0,1] + conf_matrix[1,1])\n",
        "recall = conf_matrix[1,1] / (conf_matrix[1,0] + conf_matrix[1,1])\n"
      ]
    },
    {
      "cell_type": "code",
      "source": [
        "# Generate confusion matrix\n",
        "cm = confusion_matrix(y_test, y_pred)\n",
        "\n",
        "# Plot heatmap\n",
        "plt.figure(figsize=(8, 6))\n",
        "sns.heatmap(cm, annot=True, fmt='d', cmap='Blues', cbar=False)\n",
        "plt.xlabel('Predicted Label')\n",
        "plt.ylabel('True Label')\n",
        "plt.title('Confusion Matrix')\n",
        "plt.show()"
      ],
      "metadata": {
        "colab": {
          "base_uri": "https://localhost:8080/",
          "height": 564
        },
        "id": "lgA7Nd6v2bKZ",
        "outputId": "58178757-a4e5-4d2c-8be1-acf44bdae8f8"
      },
      "execution_count": null,
      "outputs": [
        {
          "output_type": "display_data",
          "data": {
            "text/plain": [
              "<Figure size 800x600 with 1 Axes>"
            ],
            "image/png": "[encoded data removed]"
          },
          "metadata": {}
        }
      ]
    },
    {
      "cell_type": "code",
      "source": [
        "# Generate classification report\n",
        "report = classification_report(y_test, y_pred, output_dict=True)\n",
        "\n",
        "# Extract metrics\n",
        "metrics = ['precision', 'recall', 'f1-score']\n",
        "classes = list(report.keys())[:-3]  # Exclude 'accuracy', 'macro avg', 'weighted avg'\n",
        "data = np.array([[report[c][m] for m in metrics] for c in classes])\n",
        "\n",
        "# Plot bar chart\n",
        "fig, ax = plt.subplots(figsize=(10, 6))\n",
        "bar_width = 0.25\n",
        "index = np.arange(len(classes))\n",
        "\n",
        "for i, metric in enumerate(metrics):\n",
        "    ax.bar(index + i * bar_width, data[:, i], bar_width, label=metric)\n",
        "\n",
        "ax.set_xlabel('Classes')\n",
        "ax.set_ylabel('Scores')\n",
        "ax.set_title('Classification Report')\n",
        "ax.set_xticks(index + bar_width)\n",
        "ax.set_xticklabels(classes)\n",
        "ax.legend()\n",
        "plt.show()"
      ],
      "metadata": {
        "colab": {
          "base_uri": "https://localhost:8080/",
          "height": 564
        },
        "id": "HdJWzE3U2mah",
        "outputId": "1c5d5b1d-84d1-4f65-8721-b371042f7852"
      },
      "execution_count": null,
      "outputs": [
        {
          "output_type": "display_data",
          "data": {
            "text/plain": [
              "<Figure size 1000x600 with 1 Axes>"
            ],
            "image/png": "[encoded data removed]"
          },
          "metadata": {}
        }
      ]
    }
  ],
  "metadata": {
    "colab": {
      "provenance": []
    },
    "kernelspec": {
      "display_name": "Python 3",
      "name": "python3"
    },
    "language_info": {
      "codemirror_mode": {
        "name": "ipython",
        "version": 3
      },
      "file_extension": ".py",
      "mimetype": "text/x-python",
      "name": "python",
      "nbconvert_exporter": "python",
      "pygments_lexer": "ipython3",
      "version": "3.12.3"
    }
  },
  "nbformat": 4,
  "nbformat_minor": 0
}